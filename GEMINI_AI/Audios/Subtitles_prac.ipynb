{
 "cells": [
  {
   "cell_type": "code",
   "execution_count": 1,
   "id": "b06adc98-59dc-4c04-b923-2e9b74f81d58",
   "metadata": {
    "scrolled": true
   },
   "outputs": [
    {
     "name": "stdout",
     "output_type": "stream",
     "text": [
      "subtitles: [{'index': 1, 'start_time': '00:00:01,000', 'end_time': '00:00:04,000', 'text': 'Welcome to the video! '}, {'index': 2, 'start_time': '00:00:05,000', 'end_time': '00:00:09,000', 'text': 'This is an example of subtitles. '}, {'index': 3, 'start_time': '00:00:10,000', 'end_time': '00:00:13,000', 'text': 'Thanks for watching!'}]\n",
      "\n",
      "Subclips: [<moviepy.video.VideoClip.TextClip object at 0x000001880F3AB680>, <moviepy.video.VideoClip.TextClip object at 0x000001880F6028D0>, <moviepy.video.VideoClip.TextClip object at 0x000001880F602D50>]\n",
      "Moviepy - Building video study_ecology_cheetah_wth_subtitles.mp4.\n",
      "MoviePy - Writing audio in study_ecology_cheetah_wth_subtitlesTEMP_MPY_wvf_snd.mp3\n"
     ]
    },
    {
     "name": "stderr",
     "output_type": "stream",
     "text": [
      "                                                                                                                       \r"
     ]
    },
    {
     "name": "stdout",
     "output_type": "stream",
     "text": [
      "MoviePy - Done.\n",
      "Moviepy - Writing video study_ecology_cheetah_wth_subtitles.mp4\n",
      "\n"
     ]
    },
    {
     "name": "stderr",
     "output_type": "stream",
     "text": [
      "                                                                                                                       \r"
     ]
    },
    {
     "name": "stdout",
     "output_type": "stream",
     "text": [
      "Moviepy - Done !\n",
      "Moviepy - video ready study_ecology_cheetah_wth_subtitles.mp4\n"
     ]
    }
   ],
   "source": [
    "# configure image-magick\n",
    "from moviepy.config import change_settings\n",
    "change_settings({\"IMAGEMAGICK_BINARY\": r\"C:\\Program Files\\ImageMagick-7.1.1-Q16-HDRI\\magick.exe\"})\n",
    "\n",
    "import pysrt\n",
    "import re\n",
    "import datetime\n",
    "import moviepy.editor as mpy\n",
    "import IPython.display as ipd\n",
    "\n",
    "video_width, video_height = 1280, 720\n",
    "# Load your video\n",
    "video_path = r\"study_ecology_cheetah.mp4\"\n",
    "video = mpy. VideoFileClip(video_path)\n",
    "srt_path = r\"titles.srt\"\n",
    "\n",
    "# Load the subtitles from .srt file\n",
    "def parse_srt(file_path):\n",
    "    with open(file_path, \"r\", encoding=\"utf-8\") as file:\n",
    "        content = file.read()\n",
    "    \n",
    "    # Match blocks of subtitle with index, timestamps, and text\n",
    "#     [\\s\\S]*?: Captures any text (including newlines) within the block.\n",
    "# (?=\\n\\d+\\s|$): Ensures the block ends when a new index line starts or at the end of the file.\n",
    "    subtitle_blocks = re.findall(\n",
    "   r\"(\\d+)\\s+(\\d{2}:\\d{2}:\\d{2},\\d{3}) --> (\\d{2}:\\d{2}:\\d{2},\\d{3})\\s+([\\s\\S]*?)(?=\\n\\d+\\s|$)\",\n",
    "\n",
    "    # r\"(\\d+)\\s+(\\d{2}:\\d{2}:\\d{2},\\d{3}) --> (\\d{2}:\\d{2}:\\d{2},\\d{3})\\s+(.*?)(?:\\n\\n|$)\",\n",
    "    content,\n",
    "    re.DOTALL\n",
    ")\n",
    "    \n",
    "    subtitles = []\n",
    "    for block in subtitle_blocks:\n",
    "        index, start_time, end_time, text = block\n",
    "        subtitles.append({\n",
    "            \"index\": int(index),\n",
    "            \"start_time\": start_time,\n",
    "            \"end_time\": end_time,\n",
    "            \"text\": text.replace(\"\\n\", \" \"), \n",
    "        })\n",
    "    \n",
    "    return subtitles\n",
    "subtitles = parse_srt(srt_path)\n",
    "print(f\"subtitles: {subtitles}\")\n",
    "\n",
    "\n",
    "# Helper function to convert time string to seconds\n",
    "def time_to_seconds(time_str):\n",
    "    time_parts = datetime.datetime.strptime(time_str, \"%H:%M:%S,%f\")\n",
    "    return time_parts.hour * 3600 + time_parts.minute * 60 + time_parts.second + time_parts.microsecond / 1_000_000\n",
    "\n",
    "# Create subtitle clips\n",
    "subtitle_clips = []\n",
    "for subtitle in subtitles:\n",
    "    start_time = time_to_seconds(subtitle[\"start_time\"]) \n",
    "    end_time = time_to_seconds(subtitle[\"end_time\"])  \n",
    "    duration = end_time - start_time \n",
    "\n",
    "    # Create the text clip\n",
    "    text_clip = (\n",
    "        mpy.TextClip(str(subtitle[\"text\"]), fontsize=60, color=\"white\", bg_color=\"black\")\n",
    "        .set_position(\"center\")  \n",
    "        .set_start(start_time)  \n",
    "        .set_duration(duration)  \n",
    "    )\n",
    "    subtitle_clips.append(text_clip)\n",
    "print(f\"\\nSubclips: {subtitle_clips}\")\n",
    "\n",
    "# Combine video and subtitles\n",
    "final_video = mpy.CompositeVideoClip([video] + subtitle_clips)\n",
    "\n",
    "# Write the output\n",
    "final_video.write_videofile(\"study_ecology_cheetah_wth_subtitles.mp4\", codec=\"libx264\", fps=24,  preset=\"slow\")\n",
    "video.close()\n",
    "# ipd.Video(\"study_ecology_cheetah_wth_subtitles.mp4\", width=650, height=350, embed=True)\n"
   ]
  },
  {
   "cell_type": "code",
   "execution_count": 2,
   "id": "b5bfaf0c-2624-40bc-8390-15acacc02950",
   "metadata": {},
   "outputs": [],
   "source": [
    "# import re\n",
    "\n",
    "# def parse_srt(file_path):\n",
    "#     with open(file_path, \"r\", encoding=\"utf-8\") as file:\n",
    "#         content = file.read()\n",
    "    \n",
    "#     # Match blocks of subtitle with index, timestamps, and text\n",
    "#     subtitle_blocks = re.findall(\n",
    "#         r\"(\\d+)\\s+(\\d{2}:\\d{2}:\\d{2},\\d{3}) --> (\\d{2}:\\d{2}:\\d{2},\\d{3})\\s+(.*?)\\n\\n\",\n",
    "#         content,\n",
    "#         re.DOTALL\n",
    "#     )\n",
    "    \n",
    "#     subtitles = []\n",
    "#     for block in subtitle_blocks:\n",
    "#         index, start_time, end_time, text = block\n",
    "#         subtitles.append({\n",
    "#             \"index\": int(index),\n",
    "#             \"start_time\": start_time,\n",
    "#             \"end_time\": end_time,\n",
    "#             \"text\": text.replace(\"\\n\", \" \"),  # Replace newlines with spaces\n",
    "#         })\n",
    "    \n",
    "#     return subtitles\n",
    "\n",
    "\n"
   ]
  }
 ],
 "metadata": {
  "kernelspec": {
   "display_name": "APIS",
   "language": "python",
   "name": "apis"
  },
  "language_info": {
   "codemirror_mode": {
    "name": "ipython",
    "version": 3
   },
   "file_extension": ".py",
   "mimetype": "text/x-python",
   "name": "python",
   "nbconvert_exporter": "python",
   "pygments_lexer": "ipython3",
   "version": "3.12.7"
  }
 },
 "nbformat": 4,
 "nbformat_minor": 5
}
