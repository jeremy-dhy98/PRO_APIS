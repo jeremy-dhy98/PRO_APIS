{
 "cells": [
  {
   "cell_type": "code",
   "execution_count": 6,
   "id": "39e278c4-1108-4d55-ad65-33d8f5e894cb",
   "metadata": {},
   "outputs": [],
   "source": [
    "# configure image-magick\n",
    "from moviepy.config import change_settings\n",
    "change_settings({\"IMAGEMAGICK_BINARY\": r\"C:\\Program Files\\ImageMagick-7.1.1-Q16-HDRI\\magick.exe\"})\n",
    "\n",
    "import moviepy.editor as mpy\n",
    "from PIL import Image\n",
    "import IPython.display as ipd\n",
    "from glob import glob\n",
    "import os\n",
    "import subprocess\n",
    "from textwrap import wrap\n",
    "from pathlib import Path"
   ]
  }
 ],
 "metadata": {
  "kernelspec": {
   "display_name": "APIS",
   "language": "python",
   "name": "apis"
  },
  "language_info": {
   "codemirror_mode": {
    "name": "ipython",
    "version": 3
   },
   "file_extension": ".py",
   "mimetype": "text/x-python",
   "name": "python",
   "nbconvert_exporter": "python",
   "pygments_lexer": "ipython3",
   "version": "3.12.10"
  }
 },
 "nbformat": 4,
 "nbformat_minor": 5
}
